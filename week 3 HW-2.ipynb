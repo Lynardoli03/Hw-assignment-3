{
 "cells": [
  {
   "cell_type": "code",
   "execution_count": null,
   "id": "5477f150",
   "metadata": {},
   "outputs": [],
   "source": [
    "# if score >= A_score:\n",
    "    print(\"your score is A.\")\n",
    "else:\n",
    "    #I had to go back and properly indent. i indented the print statement\n",
    "\n",
    "if score >= B_score:\n",
    "    print(\"Your grade is B.\")\n",
    "else:\n",
    "    # I also indented the print statement.\n",
    "    \n",
    "    if score >= C_score:\n",
    "        print(\"your grade is C.\")\n",
    "    else:\n",
    "        # I indented the print statement after the if statement again\n",
    "        \n",
    "    if score >= D_score:\n",
    "        print(\"your grade is D.\")\n",
    "    else:\n",
    "        \n",
    "    #I properly indented the print statement\n",
    "    \n",
    "    if score >= D_score:\n",
    "        print(\"Your grade is F\")\n",
    "        \n",
    "    "
   ]
  },
  {
   "cell_type": "markdown",
   "id": "54b6e11d",
   "metadata": {},
   "source": [
    "# Algorithm Workbench #4\n",
    "Write nested decision structures that perform the following: If  is greater than 10 and  is less than 100, display the greater of  and .\n",
    "\n",
    "above is the assignment 14 from workbench. I was assigned to properly indents and format the coding."
   ]
  },
  {
   "cell_type": "markdown",
   "id": "dd357885",
   "metadata": {},
   "source": [
    "# Algorithm workbench #5\n",
    "Write nested decision structures that perform the following: If  is greater than 10 and  is less than 100, display the greater of  and ."
   ]
  },
  {
   "cell_type": "code",
   "execution_count": 6,
   "id": "886c802b",
   "metadata": {},
   "outputs": [
    {
     "name": "stdout",
     "output_type": "stream",
     "text": [
      "90\n"
     ]
    }
   ],
   "source": [
    "amount1 = 75  # i assigned a number to amount 1\n",
    "amount2 = 90  # i assigned a number to amount 2\n",
    "if amount1 > amount2: # if amount one is greater than amount 2, it will print the first amount. If not it will print the second amount\n",
    "    print(amount1)\n",
    "else:\n",
    "    print(amount2)"
   ]
  },
  {
   "cell_type": "markdown",
   "id": "0969e1fd",
   "metadata": {},
   "source": [
    "# Programming exercises #1\n",
    "Write a program that asks the user for a number in the range of 1 through 7. The program should display the corresponding day of the week, where 1 = Monday, 2 = Tuesday, 3 = Wednesday, 4 = Thursday, 5 = Friday, 6 = Saturday, and 7 = Sunday. The program should display an error message if the user enters a number that is outside the range of 1 through 7."
   ]
  },
  {
   "cell_type": "code",
   "execution_count": null,
   "id": "b484b399",
   "metadata": {},
   "outputs": [],
   "source": [
    " number = int(input(\"pick a number 1 through 7\")) #I wanted to assign my number a value to use throughout the code\n",
    "     if number == 1: # I started with an if statment to properly start the elifs\n",
    "        print(\"Monday\")\n",
    "    elif number == 2: # I continued with elif statements so my code could be read easily and flow\n",
    "         print(\"Tuesday\")\n",
    "    elif number == 3:\n",
    "         print(\"Wednesday\")\n",
    "    elif number == 4:\n",
    "        print(\"Thursrday\")\n",
    "    elif number == 5:\n",
    "        print(\"Friday\")\n",
    "    elif number == 6:\n",
    "        print(\"Saturday\")\n",
    "    elif number == 7:\n",
    "        print(\"Sunday\")\n",
    "    else:# I concluded with the the else statement being error\n",
    "        print(\"Error. Must be number between 1 and 7\")"
   ]
  },
  {
   "cell_type": "markdown",
   "id": "32dbcf12",
   "metadata": {},
   "source": [
    "# Programming exercise #5\n",
    "Write a program that asks the user to enter an object’s mass, then calculates its weight. If the object weighs more than 500 newtons, display a message indicating that it is too heavy. If the object weighs less than 100 newtons, display a message indicating that it is too light."
   ]
  },
  {
   "cell_type": "code",
   "execution_count": null,
   "id": "7e58128c",
   "metadata": {},
   "outputs": [],
   "source": [
    "mass=int(input(\"What is the objects mass?\")) # I had to assign mass to something\n",
    "    if mass >= 100: # created a nested statment to make sure the number would be in between 500 and 100\n",
    "        if mass <=500:\n",
    "                print(\"The objects weight is:\",(mass * 9.8))\n",
    "            else:\n",
    "                print(\"object is too light!\")\n",
    "            else:\n",
    "                print(\"object is too heavy!\") # finished with my else statements. This is the message that would display if the requirments are not met"
   ]
  },
  {
   "cell_type": "markdown",
   "id": "f1707a3c",
   "metadata": {},
   "source": [
    "# programming exercise # 15\n",
    "Determine whether the year is divisible by 100. If it is, then it is a leap year if and only if it is also divisible by 400. For example, 2000 is a leap year, but 2100 is not.If the year is not divisible by 100, then it is a leap year if and only if it is divisible by 4. For example, 2008 is a leap year, but 2009 is not.\n"
   ]
  },
  {
   "cell_type": "code",
   "execution_count": null,
   "id": "9d637025",
   "metadata": {},
   "outputs": [],
   "source": [
    "Year=int(input(\"what year is it?\"))# I wanted to define my year and give it a name\n",
    "    if year % 100 ==0: # i told the program that for the year to equal 0, it must be divisible by 100,400,or 4\n",
    "    if year % 400 ==0:\n",
    "    if year % 4 ==0:   \n",
    "        print(year, \"is a leap year\")# if it is, it will print its a leap year\n",
    "    else:\n",
    "        print (year,\"is not a lepa year\")# if not, it will say it is not a leap year"
   ]
  },
  {
   "cell_type": "markdown",
   "id": "8533e8f8",
   "metadata": {},
   "source": [
    "# Programming exercise #17\n",
    "Write a program that asks whether any members of your party are vegetarian, vegan, or gluten-free, to which then displays only the restaurants to which you may take the group. "
   ]
  },
  {
   "cell_type": "code",
   "execution_count": null,
   "id": "1379fcbf",
   "metadata": {},
   "outputs": [],
   "source": [
    "Vegeterian=input(\"Is anyone Vegeterian in your party?\") # here I assigned each option to a question\n",
    "Vegan=input(\"Is anyone Vegan in yout party?\")\n",
    "Gluten free=input(\"Is anyone in your party Gluten Free?\")\n",
    "print(\"Here are your resturant choices.\") # depending on what there responses are, the code will generate a prompt back with the corresponding resturants\n",
    "    if Vegeterian != \"Yes\" and Vegan != \"Yes\" and Gluten free != \"Yes\":\n",
    "        print(\"Corner Cafe\")\n",
    "    if Vegan != \"Yes\":\n",
    "        print(\"The Chefs Kitchen\")\n",
    "    if Gluten free != \"Yes\":\n",
    "        print (\"Main Street Pizza\") # these are the available outputs/resturants for the various inputs\n",
    "        \n",
    "    "
   ]
  }
 ],
 "metadata": {
  "kernelspec": {
   "display_name": "Python 3 (ipykernel)",
   "language": "python",
   "name": "python3"
  },
  "language_info": {
   "codemirror_mode": {
    "name": "ipython",
    "version": 3
   },
   "file_extension": ".py",
   "mimetype": "text/x-python",
   "name": "python",
   "nbconvert_exporter": "python",
   "pygments_lexer": "ipython3",
   "version": "3.11.7"
  }
 },
 "nbformat": 4,
 "nbformat_minor": 5
}
